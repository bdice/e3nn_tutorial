{
 "cells": [
  {
   "cell_type": "markdown",
   "metadata": {},
   "source": [
    "# Operations on Spherical Tensors\n",
    "\n",
    "### using the `e3nn` repository\n",
    "\n",
    "### tutorial by: Tess E. Smidt (`blondegeek`)"
   ]
  },
  {
   "cell_type": "markdown",
   "metadata": {},
   "source": [
    "### We're going to use the `SphericalTensor` class like we did in `data_types.ipynb`."
   ]
  },
  {
   "cell_type": "code",
   "execution_count": null,
   "metadata": {},
   "outputs": [],
   "source": [
    "import torch\n",
    "from e3nn.tensor.spherical_tensor import SphericalTensor\n",
    "from e3nn import rs\n",
    "\n",
    "torch.set_default_dtype(torch.float64)"
   ]
  },
  {
   "cell_type": "markdown",
   "metadata": {},
   "source": [
    "## Spherical tensors can be added."
   ]
  },
  {
   "cell_type": "code",
   "execution_count": null,
   "metadata": {},
   "outputs": [],
   "source": [
    "mul, L_max = 1, 1\n",
    "signal_1 = torch.zeros((L_max + 1) ** 2)\n",
    "signal_1[1 + 0] = 1.  # y\n",
    "signal_2 = torch.zeros((L_max + 1) ** 2)\n",
    "signal_2[1 + 2] = 1.  # x\n",
    "sphten_1 = SphericalTensor(signal_1, L_max)\n",
    "sphten_2 = SphericalTensor(signal_2, L_max)"
   ]
  },
  {
   "cell_type": "code",
   "execution_count": null,
   "metadata": {},
   "outputs": [],
   "source": [
    "import plotly\n",
    "from plotly.subplots import make_subplots\n",
    "import plotly.graph_objects as go\n",
    "\n",
    "res = 50\n",
    "\n",
    "def plot_operation(input1, input2, output):\n",
    "    rows = 1\n",
    "    cols = 3\n",
    "    specs = [[{'is_3d': True} for i in range(cols)]\n",
    "             for j in range(rows)]\n",
    "    fig = make_subplots(rows=rows, cols=cols, specs=specs)\n",
    "    for i, sphten in enumerate([input1, input2, output]):\n",
    "        r, f = sphten.plot(relu=False, res=res)\n",
    "        trace = go.Surface(x=r[..., 0], y=r[..., 1], z=r[..., 2], surfacecolor=f.numpy())\n",
    "        trace.showscale = False\n",
    "        fig.add_trace(trace, row=1, col=i + 1)\n",
    "    fig.update_layout(scene_aspectmode='data')\n",
    "    return fig\n",
    "\n",
    "new_sphten = sphten_1 + sphten_2\n",
    "# plots functions proportional to y, x, and (x + y)\n",
    "fig = plot_operation(sphten_1, sphten_2, new_sphten)\n",
    "fig.show()"
   ]
  },
  {
   "cell_type": "markdown",
   "metadata": {},
   "source": [
    "## We can compute the dot product of two spherical tensors"
   ]
  },
  {
   "cell_type": "code",
   "execution_count": null,
   "metadata": {},
   "outputs": [],
   "source": [
    "dot_product = sphten_1.dot(sphten_2) # These functions are orthogonal\n",
    "print(dot_product)\n",
    "\n",
    "dot_product = sphten_1.dot(sphten_1) # These functions are identical\n",
    "print(dot_product)"
   ]
  },
  {
   "cell_type": "markdown",
   "metadata": {},
   "source": [
    "## We CANNOT multiply two spherical tensors, but we can compute their tensor product and use Clebsch-Gordon coeffients to combine two tensor indices into one"
   ]
  },
  {
   "cell_type": "code",
   "execution_count": null,
   "metadata": {},
   "outputs": [],
   "source": [
    "# Note that the product of two SphericalTensors is an IrrepTensor\n",
    "new_irrten = sphten_1 @ sphten_2\n",
    "print(type(new_irrten))\n",
    "\n",
    "print(\"input1 Rs\", sphten_1.Rs)\n",
    "print(\"input2 Rs\", sphten_2.Rs)\n",
    "print(\"output Rs\", new_irrten.Rs)\n",
    "\n",
    "print(new_irrten.tensor)\n",
    "# But we can take the non-trivial component and convert back to a SphericalTensor\n",
    "# We want to drop the components generated from producting with L=0 features\n",
    "new_sphten_signal = torch.cat([\n",
    "        torch.zeros(1),  # L=0\n",
    "        new_irrten.tensor[2:2 + 3],  # (nonzero) L=1\n",
    "        new_irrten.tensor[rs.dim(new_irrten.Rs[:-1]):]  # L=2\n",
    "])\n",
    "print(new_sphten_signal.shape)\n",
    "new_sphten = SphericalTensor(new_sphten_signal, lmax=2)\n",
    "\n",
    "print(\"\")\n",
    "# plots functions proportional to y, x, and z + xy\n",
    "print(\"Now we have contributions to z (cross product) and xy (outer product).\")\n",
    "fig = plot_operation(sphten_1, sphten_2, new_sphten)\n",
    "print(\"SH:\", \"  1      y      z      x      xy     yz     *      zx     %\",)\n",
    "print(\"new\", new_sphten.signal.numpy().round(3))\n",
    "print(\"* == 2z^2 - x^2 - y^2\")\n",
    "print(\"% == x^2 - y^2\")\n",
    "fig.show()"
   ]
  },
  {
   "cell_type": "code",
   "execution_count": null,
   "metadata": {},
   "outputs": [],
   "source": []
  }
 ],
 "metadata": {
  "kernelspec": {
   "display_name": "Python 3",
   "language": "python",
   "name": "python3"
  },
  "language_info": {
   "codemirror_mode": {
    "name": "ipython",
    "version": 3
   },
   "file_extension": ".py",
   "mimetype": "text/x-python",
   "name": "python",
   "nbconvert_exporter": "python",
   "pygments_lexer": "ipython3",
   "version": "3.7.5"
  }
 },
 "nbformat": 4,
 "nbformat_minor": 2
}
