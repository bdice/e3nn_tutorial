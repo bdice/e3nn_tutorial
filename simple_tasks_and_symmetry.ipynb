{
 "cells": [
  {
   "cell_type": "markdown",
   "metadata": {},
   "source": [
    "# Simple Tasks and Symmetry\n",
    "### using the `e3nn` repository\n",
    "### tutorial by: Tess E. Smidt (`blondegeek`)"
   ]
  },
  {
   "cell_type": "markdown",
   "metadata": {},
   "source": [
    "### There are some unintuitive consequences of using E(3) equivariant neural networks. \n",
    "One example is that the symmetry your output has to be equal to or higher than the symmetry of your input. The following 3 simple tasks are to help demonstrate this:\n",
    "* Task 1: Distort a rectangle to a square.\n",
    "* Task 2: Distort a square to a rectangle.\n",
    "* Task 3: Distort a square to a rectangle -- with symmetry breaking (using representation theory).\n",
    "* Task 4: Distort a square to a rectangle -- with symmetry breaking (using gradients to change input).\n",
    "\n",
    "We will see that we can quickly do Task 1, but not Task 2. Only by using symmetry breaking in Task 3 and Task 4 are we able to distort a square into a rectangle."
   ]
  },
  {
   "cell_type": "code",
   "execution_count": null,
   "metadata": {},
   "outputs": [],
   "source": [
    "import torch\n",
    "from functools import partial\n",
    "\n",
    "from e3nn import o3 \n",
    "from e3nn.kernel_mod import Kernel\n",
    "from e3nn.tensor.spherical_tensor import SphericalTensor\n",
    "\n",
    "import plotly\n",
    "import plotly.graph_objects as go\n",
    "\n",
    "import matplotlib.pyplot as plt\n",
    "\n",
    "torch.set_default_dtype(torch.float64)"
   ]
  },
  {
   "cell_type": "code",
   "execution_count": null,
   "metadata": {
    "code_folding": []
   },
   "outputs": [],
   "source": [
    "# Define out geometry\n",
    "square = torch.tensor(\n",
    "    [[0., 0., 0.], [1., 0., 0.], [1., 1., 0.], [0., 1., 0.]]\n",
    ")\n",
    "square -= square.mean(-2)\n",
    "sx, sy = 0.5, 1.5\n",
    "rectangle = square * torch.tensor([sx, sy, 0.])\n",
    "rectangle -= rectangle.mean(-2)\n",
    "\n",
    "N, _ = square.shape\n",
    "\n",
    "markersize = 15\n",
    "\n",
    "def plot_task(ax, start, finish, title, marker=None):\n",
    "    ax.plot(torch.cat([start[:, 0], start[:, 0]]), \n",
    "            torch.cat([start[:, 1], start[:, 1]]), 'o-', \n",
    "            markersize=markersize + 5 if marker else markersize, \n",
    "            marker=marker if marker else 'o')\n",
    "    ax.plot(torch.cat([finish[:, 0], finish[:, 0]]), \n",
    "            torch.cat([finish[:, 1], finish[:, 1]]), 'o-', markersize=markersize)\n",
    "    for i in range(N):\n",
    "        ax.arrow(start[i, 0], start[i, 1], \n",
    "                 finish[i, 0] - start[i, 0], \n",
    "                 finish[i, 1] - start[i, 1],\n",
    "                 length_includes_head=True, head_width=0.05, facecolor=\"black\", zorder=100)\n",
    "\n",
    "    ax.set_title(title)\n",
    "    ax.set_axis_off()\n",
    "\n",
    "fig, axes = plt.subplots(1, 2, figsize=(9, 6))\n",
    "plot_task(axes[0], rectangle, square, \"Task 1: Rectangle to Square\")\n",
    "plot_task(axes[1], square, rectangle, \"Task 2: Square to Rectangle\")"
   ]
  },
  {
   "cell_type": "markdown",
   "metadata": {},
   "source": [
    "In these tasks, we want to move 4 points in one configuration to another configuration. The input to the network will be the initial geometry and features on that geometry. The output will be used to signify \"displacement\" of each point to the new configuration. We can represent displacement in a couple different ways. The simplest way is to represent a displacement as an L=1 vector, `Rs=[(1, 1]]`. However, to better illustrate the symmetry properties of the network, we instead are going to use a spherical harmonic signal or more specifically, the peak of the spherical harmonic signal, to signify the displacement of the original point.\n",
    "\n",
    "First, we set up a very basic network that has the same representation list `Rs = [(1, L) for L in range(5 + 1)]` throughout the entire network. The input will be a spherical tensor with representation `Rs` and the output will also be a spherical tensor with representation `Rs`. We will interpret the output of the network as a spherical harmonic signal where the peak location will signify the desired displacement."
   ]
  },
  {
   "cell_type": "markdown",
   "metadata": {},
   "source": [
    "## For these examples, we will used the default `e3nn.networks.GatedConvNetwork` class for our model"
   ]
  },
  {
   "cell_type": "code",
   "execution_count": null,
   "metadata": {},
   "outputs": [],
   "source": [
    "from e3nn.networks import GatedConvNetwork\n",
    "L_max = 5\n",
    "Rs = [(1, L) for L in range(L_max + 1)]\n",
    "Network = partial(GatedConvNetwork,\n",
    "                  Rs_in=Rs,\n",
    "                  Rs_hidden=Rs,\n",
    "                  Rs_out=Rs,\n",
    "                  lmax=L_max,\n",
    "                  max_radius=3.0,\n",
    "                  kernel=Kernel)"
   ]
  },
  {
   "cell_type": "code",
   "execution_count": null,
   "metadata": {},
   "outputs": [],
   "source": [
    "from e3nn.networks import GatedConvParityNetwork\n",
    "L_max = 5\n",
    "Rs = [(1, L, (-1)**L) for L in range(L_max + 1)]\n",
    "Network = partial(GatedConvParityNetwork, \n",
    "                  Rs_in=Rs, \n",
    "                  mul=5, \n",
    "                  Rs_out=Rs, \n",
    "                  lmax=L_max, \n",
    "                  max_radius=3.0, \n",
    "                  layers=1)"
   ]
  },
  {
   "cell_type": "markdown",
   "metadata": {},
   "source": [
    "## Task 1: Distort a rectangle to square.\n",
    "In this task, our input is a four points in the shape of a rectangle with simple scalars (1.0) at each point. The task is to learn to displace the points to form a (more symmetric) square."
   ]
  },
  {
   "cell_type": "code",
   "execution_count": null,
   "metadata": {},
   "outputs": [],
   "source": [
    "model = Network()\n",
    "\n",
    "optimizer = torch.optim.Adam(model.parameters(), 1e-2)"
   ]
  },
  {
   "cell_type": "code",
   "execution_count": null,
   "metadata": {},
   "outputs": [],
   "source": [
    "input = torch.zeros((L_max + 1)**2)\n",
    "input[0] = 1\n",
    "\n",
    "displacements = square - rectangle\n",
    "projections = torch.stack([\n",
    "    SphericalTensor.from_geometry(r, L_max).signal \n",
    "    for r in displacements\n",
    "])"
   ]
  },
  {
   "cell_type": "code",
   "execution_count": null,
   "metadata": {},
   "outputs": [],
   "source": [
    "for i in range(51):\n",
    "    output = model(input.repeat(1, 4, 1), rectangle[None])[0]\n",
    "    loss = (output - projections).pow(2).mean()\n",
    "    optimizer.zero_grad()\n",
    "    loss.backward()\n",
    "    optimizer.step()\n",
    "    if i % 10 == 0:\n",
    "        print(i, loss)"
   ]
  },
  {
   "cell_type": "code",
   "execution_count": null,
   "metadata": {},
   "outputs": [],
   "source": [
    "def plot_output(start, finish, features, start_label, finish_label, bound=None):\n",
    "    if bound is None:\n",
    "        bound = max(start.norm(dim=1).max(), finish.norm(dim=1).max()).item()\n",
    "    axis = dict(\n",
    "        showbackground=False,\n",
    "        showticklabels=False,\n",
    "        showgrid=False,\n",
    "        zeroline=False,\n",
    "        title='',\n",
    "        nticks=3,\n",
    "        range=[-bound, bound]\n",
    "    )\n",
    "\n",
    "    resolution = 500\n",
    "    layout = dict(\n",
    "        width=resolution,\n",
    "        height=resolution,\n",
    "        scene=dict(\n",
    "            xaxis=axis,\n",
    "            yaxis=axis,\n",
    "            zaxis=axis,\n",
    "            aspectmode='manual',\n",
    "            aspectratio=dict(x=1, y=1, z=1),\n",
    "            camera=dict(\n",
    "                up=dict(x=0, y=1, z=0),\n",
    "                center=dict(x=0, y=0, z=0),\n",
    "                eye=dict(x=0, y=0, z=2),\n",
    "                projection=dict(type='perspective'),\n",
    "            ),\n",
    "        ),\n",
    "        paper_bgcolor='rgba(255,255,255,255)',\n",
    "        plot_bgcolor='rgba(0,0,0,0)',\n",
    "        margin=dict(l=0, r=0, t=0, b=0)\n",
    "    )\n",
    "\n",
    "    traces = [\n",
    "        go.Scatter3d(x=start[:, 0], y=start[:, 1], z=start[:, 2], mode=\"markers\", name=start_label),\n",
    "        go.Scatter3d(x=finish[:, 0], y=finish[:, 1], z=finish[:, 2], mode=\"markers\", name=finish_label),\n",
    "    ]\n",
    "    \n",
    "    for center, signal in zip(start, features):\n",
    "        r, f = SphericalTensor(signal.detach()).plot(center=center)\n",
    "        traces += [go.Surface(x=r[..., 0], y=r[..., 1], z=r[..., 2], surfacecolor=f.numpy(), showscale=False)]\n",
    "        \n",
    "    return go.Figure(traces, layout=layout)"
   ]
  },
  {
   "cell_type": "code",
   "execution_count": null,
   "metadata": {},
   "outputs": [],
   "source": [
    "output = model(input.repeat(1, 4, 1), rectangle[None])[0]\n",
    "fig = plot_output(rectangle, square, output, \"Rectangle\", \"Square\")\n",
    "fig.show()"
   ]
  },
  {
   "cell_type": "markdown",
   "metadata": {},
   "source": [
    "### And let's check that it's equivariant"
   ]
  },
  {
   "cell_type": "code",
   "execution_count": null,
   "metadata": {},
   "outputs": [],
   "source": [
    "angles = o3.rand_angles()\n",
    "rot = -o3.rot(*angles)  # rotation + parity\n",
    "\n",
    "rot_rectangle = torch.einsum('xy,jy->jx', rot, rectangle)\n",
    "rot_square = torch.einsum('xy,jy->jx', rot, square)\n",
    "\n",
    "output = model(input.repeat(1, 4, 1), rot_rectangle[None])[0]\n",
    "fig = plot_output(rot_rectangle, rot_square, output, \"Rectangle\", \"Square\")\n",
    "fig.show()"
   ]
  },
  {
   "cell_type": "markdown",
   "metadata": {},
   "source": [
    "## Task 2: Now the reverse! Distort a square to rectangle.\n",
    "In this task, our input is a four points in the shape of a square with simple scalars (1.0) at each point. The task is to learn to displace the points to form a (less symmetric) rectangle. Can the network learn this task?"
   ]
  },
  {
   "cell_type": "code",
   "execution_count": null,
   "metadata": {},
   "outputs": [],
   "source": [
    "model = Network()\n",
    "\n",
    "optimizer = torch.optim.Adam(model.parameters(), 1e-2)"
   ]
  },
  {
   "cell_type": "code",
   "execution_count": null,
   "metadata": {},
   "outputs": [],
   "source": [
    "input = torch.zeros((L_max + 1)**2)\n",
    "input[0] = 1\n",
    "\n",
    "displacements = rectangle - square\n",
    "projections = torch.stack([\n",
    "    SphericalTensor.from_geometry(r, L_max).signal \n",
    "    for r in displacements\n",
    "])"
   ]
  },
  {
   "cell_type": "code",
   "execution_count": null,
   "metadata": {},
   "outputs": [],
   "source": [
    "for i in range(51):\n",
    "    output = model(input.repeat(1, 4, 1), square[None])[0]\n",
    "    loss = (output - projections).pow(2).mean()\n",
    "    optimizer.zero_grad()\n",
    "    loss.backward()\n",
    "    optimizer.step()\n",
    "    if i % 10 == 0:\n",
    "        print(i, loss)"
   ]
  },
  {
   "cell_type": "markdown",
   "metadata": {},
   "source": [
    "## Hmm... seems to get stuck. Let's try more iterations."
   ]
  },
  {
   "cell_type": "code",
   "execution_count": null,
   "metadata": {},
   "outputs": [],
   "source": [
    "for i in range(51):\n",
    "    output = model(input.repeat(1, 4, 1), square[None])[0]\n",
    "    loss = (output - projections).pow(2).mean()\n",
    "    optimizer.zero_grad()\n",
    "    loss.backward()\n",
    "    optimizer.step()\n",
    "    if i % 10 == 0:\n",
    "        print(i, loss)"
   ]
  },
  {
   "cell_type": "markdown",
   "metadata": {},
   "source": [
    "## It's stuck. What's going on?"
   ]
  },
  {
   "cell_type": "code",
   "execution_count": null,
   "metadata": {},
   "outputs": [],
   "source": [
    "fig = plot_output(square, rectangle, output, \"Square\", \"Rectangle\")\n",
    "fig.show()"
   ]
  },
  {
   "cell_type": "markdown",
   "metadata": {},
   "source": [
    "### The symmetry of the output must be higher or equal to the symmetry of the input! \n",
    "To be able to do this task, you need to give the network more information -- information that breaks the symmetry to that of the desired output. The square has a point group of $D_{4h}$ (16 elements) while the rectangle has a point group of $D_{2h}$ (8 elements).\n",
    "\n",
    "#### A technical note (for those who are interested).\n",
    "In this example, if we do not use a network equivariant to [parity](https://en.wikipedia.org/wiki/Parity_(physics)) (e.g. using `GatedConvNetwork` instead of `GatedConvParityNetwork`) -- we would be only sensitive to the fact that the square has $C_4$ symmetry while the rectangle has $C_2$ symmetry."
   ]
  },
  {
   "cell_type": "markdown",
   "metadata": {},
   "source": [
    "## Task 3: Fixing Task 2. Distort a square into a rectangle -- now, with symmetry breaking (using representation theory)!\n",
    "\n",
    "In this task, our input is four points in the shape of a square with simple scalars (1.0) AND a contribution for the $x^2 - y^2$ feature at each point. The task is to learn to displace the points to form a (less symmetric) rectangle. Can the network learn this task?"
   ]
  },
  {
   "cell_type": "code",
   "execution_count": null,
   "metadata": {},
   "outputs": [],
   "source": [
    "model = Network()\n",
    "\n",
    "optimizer = torch.optim.Adam(model.parameters(), 1e-2)"
   ]
  },
  {
   "cell_type": "code",
   "execution_count": null,
   "metadata": {},
   "outputs": [],
   "source": [
    "input = torch.zeros((L_max + 1)**2)\n",
    "\n",
    "# Breaking x and y symmetry with x^2 - y^2 component\n",
    "input[0] = 1\n",
    "input[8] = 1  # x^2 - y^2\n",
    "\n",
    "displacements = rectangle - square\n",
    "projections = torch.stack([\n",
    "    SphericalTensor.from_geometry(r, L_max).signal \n",
    "    for r in displacements\n",
    "])"
   ]
  },
  {
   "cell_type": "code",
   "execution_count": null,
   "metadata": {},
   "outputs": [],
   "source": [
    "for i in range(51):\n",
    "    output = model(input.repeat(1, 4, 1), square[None])[0]\n",
    "    loss = (output - projections).pow(2).mean()\n",
    "    optimizer.zero_grad()\n",
    "    loss.backward()\n",
    "    optimizer.step()\n",
    "    if i % 10 == 0:\n",
    "        print(i, loss)"
   ]
  },
  {
   "cell_type": "code",
   "execution_count": null,
   "metadata": {},
   "outputs": [],
   "source": [
    "fig = plot_output(square, rectangle, output, \"Square\", \"Rectangle\")\n",
    "fig.show()"
   ]
  },
  {
   "cell_type": "markdown",
   "metadata": {},
   "source": [
    "### What is $x^2 - y^2$ the term doing? It's breaking the symmetry along the $\\hat{x}$ and $\\hat{y}$ directions.\n",
    "Notice how the shape below is an ellisoid elongated in the y direction and squished in the x. This isn't the only pertubation we could've added, but it is the most symmetric."
   ]
  },
  {
   "cell_type": "code",
   "execution_count": null,
   "metadata": {},
   "outputs": [],
   "source": [
    "fig = plot_output(square, square, 0.3 * input.repeat(4, 1), '', '', bound=0.75)\n",
    "fig.show()"
   ]
  },
  {
   "cell_type": "markdown",
   "metadata": {},
   "source": [
    "### Sure, but where did the $x^2 - y^2$ come from?\n",
    "It's a bit of a complicated story, but at the surface level here it is: [Character tables](https://en.wikipedia.org/wiki/Character_table) are handy tabulations of how certain spherical tensor datatypes transform under that group symmetry. The rows are irreducible representations (irrep for short) and the columns are similar elements of the group (called [conjugacy classes](https://en.wikipedia.org/wiki/Conjugacy_class)). Character tables are most commonly seen for finite groups of $E(3)$ symmetry as they are used extensively in solid state physics, crystallography, chemistry, etc. Next to the part of the table with the \"characters\", there are often columns showing linear, quadratic, and cubic functions (meaning they are of order 1, 2, and 3) that transform in the same way as a given irrep.\n",
    "\n",
    "So, a square has a point group symmetry of $D_{4h}$ while a rectangle has a point group symmetry of $D_{2h}$\n",
    "\n",
    "If we look at column headers of character tables for $D_{4h}$ and $D_{2h}$...\n",
    "* [$D_{4h}$ Character Table](http://symmetry.jacobs-university.de/cgi-bin/group.cgi?group=604&option=4)\n",
    "* [$D_{2h}$ Character Table](http://symmetry.jacobs-university.de/cgi-bin/group.cgi?group=602&option=4)\n",
    "\n",
    "... we can see that the irrep $B_{1g}$ of $D_{4h}$ that has -1's in the columns for all the symmetry operations that $D_{2h}$ DOESN'T have and if we look down that row to the column \"quadratic functions\" we see, voila $x^2 - y^2$. So, to break all those symmetries that $D_{4h}$ has that $D_{2h}$ DOESN'T have -- we add a non-zero contribution to the $x^2 - y^2$ component of our spherical harmonic tensors.\n",
    "\n",
    "#### WARNING: Character tables are written down with specific coordinate system conventions. For example, the $\\hat{z}$ axis always points along the highest symmetry axis, $\\hat{y}$ along the next highest, etc. We have specifically set up our problem have a coordinate frame that matches these conventions.\n",
    "\n",
    "#### A technical note (for those who are interested).\n",
    "Again, in this example if we leave out parity (by using `GatedConvNetwork` instead of `GatedParityConvNetwork`), we would only be sensitive to the fact that the square has $C_4$ symmetry while the rectangle has $C_2$ symmetry. However, you can check the character tables for the point groups [$C_4$](http://symmetry.jacobs-university.de/cgi-bin/group.cgi?group=204&option=4) and [$C_2$](http://symmetry.jacobs-university.de/cgi-bin/group.cgi?group=202&option=4) to see that the arguement above still holds for the $x^2 - y^2$ order parameter."
   ]
  },
  {
   "cell_type": "markdown",
   "metadata": {},
   "source": [
    "## Task 4: Fixing Task 2 without having to read character tables like Task 4. Distort a square into a rectangle -- now, with symmetry breaking (using gradients to change the input)!\n",
    "\n",
    "In this task, our input is four points in the shape of a square with simple scalars (1.0) AND then we LEARN how to change the inputs to break symmetry such that we can fit a better model."
   ]
  },
  {
   "cell_type": "code",
   "execution_count": null,
   "metadata": {},
   "outputs": [],
   "source": [
    "model = Network()\n",
    "\n",
    "input = torch.zeros((L_max + 1)**2, requires_grad=True)\n",
    "with torch.no_grad():\n",
    "    input[0] = 1\n",
    "\n",
    "displacements = rectangle - square\n",
    "projections = torch.stack([\n",
    "    SphericalTensor.from_geometry(r, L_max).signal \n",
    "    for r in displacements\n",
    "])\n",
    "\n",
    "param_optimizer = torch.optim.Adam(model.parameters(), 1e-2)\n",
    "input_optimizer = torch.optim.Adam([input], 1e-3)"
   ]
  },
  {
   "cell_type": "markdown",
   "metadata": {},
   "source": [
    "## First, we'll train the model until it gets stuck."
   ]
  },
  {
   "cell_type": "code",
   "execution_count": null,
   "metadata": {},
   "outputs": [],
   "source": [
    "for i in range(21):\n",
    "    output = model(input.repeat(4, 1)[None], square[None])[0]\n",
    "    loss = (output - projections).pow(2).mean()\n",
    "    param_optimizer.zero_grad()\n",
    "    loss.backward()\n",
    "    param_optimizer.step()\n",
    "    if i % 10 == 0:\n",
    "        print(i, loss)"
   ]
  },
  {
   "cell_type": "markdown",
   "metadata": {},
   "source": [
    "## This gets stuck like before. So let's try alternating between updating our input and updating the model."
   ]
  },
  {
   "cell_type": "code",
   "execution_count": null,
   "metadata": {
    "scrolled": false
   },
   "outputs": [],
   "source": [
    "for i in range(101):\n",
    "    output = model(input.repeat(4, 1)[None], square[None])[0]\n",
    "    loss = (output - projections).pow(2).mean()\n",
    "    param_optimizer.zero_grad()\n",
    "    loss.backward()\n",
    "    param_optimizer.step()\n",
    "    if i % 10 == 0:\n",
    "        print(i, 'model loss: ', loss)\n",
    "\n",
    "\n",
    "    output = model(input.repeat(4, 1)[None], square[None])[0]\n",
    "    loss = (output - projections).pow(2).mean()\n",
    "    # Add sparse penalty to L=2\n",
    "    loss += 1e-3 * (input[1:].abs()).mean()\n",
    "    input_optimizer.zero_grad()\n",
    "    loss.backward()\n",
    "    input_optimizer.step()\n",
    "    \n",
    "    # only allow L=2 to evolve\n",
    "    with torch.no_grad():\n",
    "        input[0] = 1  # L=0\n",
    "#         input[1**2:2**2] = 0  # L=1\n",
    "#         input[3**2:] = 0  # L>=3\n",
    "        \n",
    "    if i % 10 == 0:\n",
    "        print(i, 'input loss: ', loss)"
   ]
  },
  {
   "cell_type": "markdown",
   "metadata": {},
   "source": [
    "### If we examine the input, we should see that the only components that are (largely) non-zero are the scalar features (which are all 1's) and the features that transform as the $B_{1g}$ irrep of $D_{4h}$ such as the L=2 feature corresponding to $x^2 - y^2$, which is the 5th element of the L=2 array, and L=4 the feature corresponding to $(x^2-y^2)(7z^2 - r^2)$, which is the 7th element of the L=4 array."
   ]
  },
  {
   "cell_type": "code",
   "execution_count": null,
   "metadata": {},
   "outputs": [],
   "source": [
    "for L in range(L_max + 1):\n",
    "    print(\"L={}\".format(L))\n",
    "    print(input[L**2:(L+1)**2].detach().numpy().round(3))"
   ]
  },
  {
   "cell_type": "markdown",
   "metadata": {},
   "source": [
    "## This plot shows what the new input looks like. It's similar to the above plot from Task 3."
   ]
  },
  {
   "cell_type": "code",
   "execution_count": null,
   "metadata": {},
   "outputs": [],
   "source": [
    "fig = plot_output(square, square, input.repeat(4, 1), '', '', bound=1)\n",
    "fig.show()"
   ]
  },
  {
   "cell_type": "code",
   "execution_count": null,
   "metadata": {},
   "outputs": [],
   "source": []
  }
 ],
 "metadata": {
  "kernelspec": {
   "display_name": "Python 3",
   "language": "python",
   "name": "python3"
  },
  "language_info": {
   "codemirror_mode": {
    "name": "ipython",
    "version": 3
   },
   "file_extension": ".py",
   "mimetype": "text/x-python",
   "name": "python",
   "nbconvert_exporter": "python",
   "pygments_lexer": "ipython3",
   "version": "3.7.5"
  }
 },
 "nbformat": 4,
 "nbformat_minor": 2
}
