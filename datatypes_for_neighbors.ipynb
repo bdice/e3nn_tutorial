{
 "cells": [
  {
   "cell_type": "markdown",
   "metadata": {},
   "source": [
    "## Convolutions with Neighbors\n",
    "The computational efficiency of convolutions comes from interacting data that is consider \"local\". For an image, pixels are local if they are within the size of the convolutional filter. For point-wise operations, we have a lot of flexibility for how we define pair-wise interactions used for convolutions. In this notebook, we illustrate how to use two data preprocessing classes for creating \"edges\" and \"edge attributes\" used by the `e3nn.point.message_passing.Convolution` class for the interacting atoms within a specified radius. We give examples for both molecules and crystals (with periodic boundary conditions)."
   ]
  },
  {
   "cell_type": "code",
   "execution_count": 1,
   "metadata": {},
   "outputs": [],
   "source": [
    "import torch\n",
    "import e3nn\n",
    "import e3nn.point.data_helpers as dh\n",
    "import glob\n",
    "\n",
    "torch.set_default_dtype(torch.float64)  # torch.float64 is the datatype we use for e3nn"
   ]
  },
  {
   "cell_type": "markdown",
   "metadata": {},
   "source": [
    "### Import data from files\n",
    "I'm using `pymatgen` simply because it's the package I'm most accustomed to. Feel free to use what you like.\n"
   ]
  },
  {
   "cell_type": "code",
   "execution_count": 2,
   "metadata": {},
   "outputs": [],
   "source": [
    "import pymatgen\n",
    "from pymatgen.core.structure import Molecule, Structure"
   ]
  },
  {
   "cell_type": "code",
   "execution_count": 3,
   "metadata": {},
   "outputs": [],
   "source": [
    "# Set maximum radius for convolution and neighbor lists\n",
    "r_max = 3.\n",
    "\n",
    "# Molecules\n",
    "mol_species = []\n",
    "mol_coords = []\n",
    "mol_atom_type_set = set()\n",
    "for filename in glob.glob('data/*.xyz'):\n",
    "    mol = Molecule.from_file(filename)\n",
    "    mol_coords.append(torch.tensor(mol.cart_coords))\n",
    "    species = list(map(str, mol.species))\n",
    "    mol_atom_type_set = mol_atom_type_set.union(set(species))\n",
    "    mol_species.append(species)\n",
    "mol_atom_type_list = sorted(list(mol_atom_type_set)) \n",
    "\n",
    "A = len(mol_atom_type_list)\n",
    "mol_Rs_in = [(A, 0, 1)]\n",
    "\n",
    "## Create one-hot encoding of atom types\n",
    "mol_features = []\n",
    "for coords, species in zip(mol_coords, mol_species):\n",
    "    N, _ = coords.shape\n",
    "    feature = torch.zeros(N, A)\n",
    "    atom_type_indices = [mol_atom_type_list.index(specie) for specie in species]\n",
    "    feature[range(N), atom_type_indices] = 1.\n",
    "    mol_features.append(feature)\n",
    "\n",
    "## Create random labels\n",
    "mol_labels = torch.randn(len(mol_features), 1)\n",
    "\n",
    "# Crystals\n",
    "xtal_species = []\n",
    "xtal_coords = []\n",
    "xtal_lattices = []\n",
    "xtal_atom_type_set = set()\n",
    "for filename in glob.glob('data/*.cif'):\n",
    "    xtal = Structure.from_file(filename)\n",
    "    xtal_coords.append(torch.tensor(xtal.cart_coords))\n",
    "    species = list(map(str, xtal.species))\n",
    "    xtal_atom_type_set = xtal_atom_type_set.union(set(species))\n",
    "    xtal_species.append(species)\n",
    "    xtal_lattices.append(torch.tensor(xtal.lattice.matrix.copy()))\n",
    "xtal_atom_type_list = sorted(list(xtal_atom_type_set))\n",
    "\n",
    "A = len(xtal_atom_type_list)\n",
    "xtal_Rs_in = [(A, 0, 1)]\n",
    "\n",
    "## Create one-hot encoding of atom types\n",
    "xtal_features = []\n",
    "for coords, species in zip(xtal_coords, xtal_species):\n",
    "    N, _ = coords.shape\n",
    "    feature = torch.zeros(N, A)\n",
    "    atom_type_indices = [xtal_atom_type_list.index(specie) for specie in species]\n",
    "    feature[range(N), atom_type_indices] = 1.\n",
    "    xtal_features.append(feature)\n",
    "    \n",
    "## Create random labels\n",
    "xtal_labels = torch.randn(len(xtal_features), 1)\n",
    "\n",
    "Rs_out = [(1, 0, 1)]  # Single scalar with even parity for both molecules and crystals"
   ]
  },
  {
   "cell_type": "markdown",
   "metadata": {},
   "source": [
    "### In `e3nn.point.data_helpers` we've defined two classes that inherit from the `torch_geometric.data.Data` class that are helpful for generating the neighbor lists (edges) doing point-wise convolutions....\n",
    "`DataNeighbors` for neighbors with no boundary conditions (as one might use for molecules) and `DataPeriodicNeighbors` for  3D periodic boundary conditions (as one might use for crystals) using built in functions from `ase` and `pymatgen`, respectively."
   ]
  },
  {
   "cell_type": "code",
   "execution_count": 4,
   "metadata": {},
   "outputs": [],
   "source": [
    "mol_data = [\n",
    "    dh.DataNeighbors(feature, coord, r_max, y=label, Rs_in=mol_Rs_in, Rs_out=Rs_out)\n",
    "    for (feature, coord, label) in zip(mol_features, mol_coords, mol_labels)\n",
    "]\n",
    "\n",
    "# Create DataPeriodicNeighbors objects\n",
    "xtal_data = [\n",
    "    dh.DataPeriodicNeighbors(feature, coord, lattice, r_max, y=label, Rs_in=xtal_Rs_in, Rs_out=Rs_out)\n",
    "    for (feature, coord, lattice, label) in zip(xtal_features, xtal_coords, xtal_lattices, xtal_labels)\n",
    "]"
   ]
  },
  {
   "cell_type": "markdown",
   "metadata": {},
   "source": [
    "In the case of thousands examples, these objects can be time consuming to generate. So let's store them in a file. To use in other notebooks"
   ]
  },
  {
   "cell_type": "code",
   "execution_count": 33,
   "metadata": {},
   "outputs": [],
   "source": [
    "torch.save(mol_data, 'data/mol_data.torch')\n",
    "torch.save(xtal_data, 'data/xtal_data.torch')"
   ]
  },
  {
   "cell_type": "markdown",
   "metadata": {},
   "source": [
    "### Attributes are accessed in the following way\n",
    "\n",
    "#### DataNeighbors\n",
    "\n",
    "| Class attribute | Description |\n",
    "|-----------------|-------------|\n",
    "| `x` | features on atoms [N, rs.dim(Rs_in)]\n",
    "| `pos` | atomic Cartesian coordinates [N, xyz] |\n",
    "| `edge_index` | pairs of indices of atomic neighbors in the direction of source to target |\n",
    "| `edge_attr` | relative distance vector from source to target |\n",
    "| `y` | training labels either [N rs.dim(Rs_out)] if per atom or [rs.dim(Rs_out] if per structure |\n",
    "| `Rs_in` | representation list of input |\n",
    "| `Rs_out` | representation list of output |\n",
    "\n",
    "#### DataPeriodicNeighbors\n",
    "\n",
    "| Class attribute | Description |\n",
    "|-----------------|-------------|\n",
    "| `x` | features on atoms [N, rs.dim(Rs_in)]\n",
    "| `pos` | atomic Cartesian coordinates [N, xyz] |\n",
    "| `edge_index` | pairs of indices of atomic neighbors in the direction of source to target |\n",
    "| `edge_attr` | relative distance vector from source to target|\n",
    "| `y` | training labels either [N rs.dim(Rs_out)] if per atom or [rs.dim(Rs_out] if per structure |\n",
    "| `lattice` | lattice of crystal |\n",
    "| `Rs_in` | representation list of input |\n",
    "| `Rs_out` | representation list of output |\n",
    "\n",
    "Note, that for crystals, there may be several edges with identical `edge_index` but differing `edge_attr` representing neighbors due to different \"images\" of the same atom. For example, in the Si (silicon) structure there are two atoms in the unit cell and each atom is tetrahedrally coordinated by the other. Additionally, \"self-interactions\", edges between an atom and itself are also included by default."
   ]
  },
  {
   "cell_type": "code",
   "execution_count": 35,
   "metadata": {},
   "outputs": [
    {
     "name": "stdout",
     "output_type": "stream",
     "text": [
      "tensor([[0, 0, 0, 0, 0, 1, 1, 1, 1, 1],\n",
      "        [0, 1, 1, 1, 1, 1, 0, 0, 0, 0]])\n",
      "tensor([[ 0.0000e+00,  0.0000e+00,  0.0000e+00],\n",
      "        [-2.2329e+00,  7.8946e-01,  5.8458e-10],\n",
      "        [ 3.3751e-10, -2.3684e+00,  5.8458e-10],\n",
      "        [ 1.1165e+00,  7.8946e-01, -1.9338e+00],\n",
      "        [ 1.1165e+00,  7.8946e-01,  1.9338e+00],\n",
      "        [ 0.0000e+00,  0.0000e+00,  0.0000e+00],\n",
      "        [-1.1165e+00, -7.8946e-01, -1.9338e+00],\n",
      "        [-1.1165e+00, -7.8946e-01,  1.9338e+00],\n",
      "        [-3.3751e-10,  2.3684e+00, -5.8458e-10],\n",
      "        [ 2.2329e+00, -7.8946e-01, -5.8458e-10]])\n"
     ]
    }
   ],
   "source": [
    "print(xtal_data[1].edge_index)\n",
    "print(xtal_data[1].edge_attr)  # Note that the self interactions have a relative distance vector with zeros."
   ]
  },
  {
   "cell_type": "code",
   "execution_count": null,
   "metadata": {},
   "outputs": [],
   "source": []
  }
 ],
 "metadata": {
  "kernelspec": {
   "display_name": "Python 3",
   "language": "python",
   "name": "python3"
  },
  "language_info": {
   "codemirror_mode": {
    "name": "ipython",
    "version": 3
   },
   "file_extension": ".py",
   "mimetype": "text/x-python",
   "name": "python",
   "nbconvert_exporter": "python",
   "pygments_lexer": "ipython3",
   "version": "3.7.5"
  }
 },
 "nbformat": 4,
 "nbformat_minor": 2
}
